{
 "cells": [
  {
   "cell_type": "code",
   "execution_count": 1,
   "metadata": {},
   "outputs": [],
   "source": [
    "import pandas as pd"
   ]
  },
  {
   "cell_type": "code",
   "execution_count": 3,
   "metadata": {},
   "outputs": [
    {
     "ename": "TypeError",
     "evalue": "map() takes no keyword arguments",
     "output_type": "error",
     "traceback": [
      "\u001b[1;31m---------------------------------------------------------------------------\u001b[0m",
      "\u001b[1;31mTypeError\u001b[0m                                 Traceback (most recent call last)",
      "\u001b[1;32mc:\\Users\\bsroy\\Documents\\Coding\\DSBA_5122\\H1B_Analysis\\graphs.ipynb Cell 2\u001b[0m line \u001b[0;36m3\n\u001b[0;32m      <a href='vscode-notebook-cell:/c%3A/Users/bsroy/Documents/Coding/DSBA_5122/H1B_Analysis/graphs.ipynb#W1sZmlsZQ%3D%3D?line=0'>1</a>\u001b[0m \u001b[39m# merging csv files \u001b[39;00m\n\u001b[0;32m      <a href='vscode-notebook-cell:/c%3A/Users/bsroy/Documents/Coding/DSBA_5122/H1B_Analysis/graphs.ipynb#W1sZmlsZQ%3D%3D?line=1'>2</a>\u001b[0m h1b \u001b[39m=\u001b[39m pd\u001b[39m.\u001b[39mconcat( \n\u001b[1;32m----> <a href='vscode-notebook-cell:/c%3A/Users/bsroy/Documents/Coding/DSBA_5122/H1B_Analysis/graphs.ipynb#W1sZmlsZQ%3D%3D?line=2'>3</a>\u001b[0m     \u001b[39mmap\u001b[39;49m(pd\u001b[39m.\u001b[39;49mread_csv, [\u001b[39m'\u001b[39;49m\u001b[39moutput_done_1.csv\u001b[39;49m\u001b[39m'\u001b[39;49m, \u001b[39m'\u001b[39;49m\u001b[39moutput_done_2.csv\u001b[39;49m\u001b[39m'\u001b[39;49m, \u001b[39m'\u001b[39;49m\u001b[39moutput_done_3.csv\u001b[39;49m\u001b[39m'\u001b[39;49m, \u001b[39m'\u001b[39;49m\u001b[39moutput_done_4.csv\u001b[39;49m\u001b[39m'\u001b[39;49m,\n\u001b[0;32m      <a href='vscode-notebook-cell:/c%3A/Users/bsroy/Documents/Coding/DSBA_5122/H1B_Analysis/graphs.ipynb#W1sZmlsZQ%3D%3D?line=3'>4</a>\u001b[0m                       \u001b[39m'\u001b[39;49m\u001b[39moutput_done_5.csv\u001b[39;49m\u001b[39m'\u001b[39;49m, \u001b[39m'\u001b[39;49m\u001b[39moutput_done_6.csv\u001b[39;49m\u001b[39m'\u001b[39;49m, \u001b[39m'\u001b[39;49m\u001b[39moutput_done_7.csv\u001b[39;49m\u001b[39m'\u001b[39;49m, \u001b[39m'\u001b[39;49m\u001b[39moutput_done_8.csv\u001b[39;49m\u001b[39m'\u001b[39;49m,\n\u001b[0;32m      <a href='vscode-notebook-cell:/c%3A/Users/bsroy/Documents/Coding/DSBA_5122/H1B_Analysis/graphs.ipynb#W1sZmlsZQ%3D%3D?line=4'>5</a>\u001b[0m                       \u001b[39m'\u001b[39;49m\u001b[39moutput_done_9.csv\u001b[39;49m\u001b[39m'\u001b[39;49m, \u001b[39m'\u001b[39;49m\u001b[39moutput_done_10.csv\u001b[39;49m\u001b[39m'\u001b[39;49m, \u001b[39m'\u001b[39;49m\u001b[39moutput_done_11.csv\u001b[39;49m\u001b[39m'\u001b[39;49m, \u001b[39m'\u001b[39;49m\u001b[39moutput_done_12.csv\u001b[39;49m\u001b[39m'\u001b[39;49m,\n\u001b[0;32m      <a href='vscode-notebook-cell:/c%3A/Users/bsroy/Documents/Coding/DSBA_5122/H1B_Analysis/graphs.ipynb#W1sZmlsZQ%3D%3D?line=5'>6</a>\u001b[0m                       \u001b[39m'\u001b[39;49m\u001b[39moutput_done_13.csv\u001b[39;49m\u001b[39m'\u001b[39;49m, \u001b[39m'\u001b[39;49m\u001b[39moutput_done_14.csv\u001b[39;49m\u001b[39m'\u001b[39;49m, \u001b[39m'\u001b[39;49m\u001b[39moutput_done_15.csv\u001b[39;49m\u001b[39m'\u001b[39;49m, \u001b[39m'\u001b[39;49m\u001b[39moutput_done_16.csv\u001b[39;49m\u001b[39m'\u001b[39;49m,\n\u001b[0;32m      <a href='vscode-notebook-cell:/c%3A/Users/bsroy/Documents/Coding/DSBA_5122/H1B_Analysis/graphs.ipynb#W1sZmlsZQ%3D%3D?line=6'>7</a>\u001b[0m                       \u001b[39m'\u001b[39;49m\u001b[39moutput_done_17.csv\u001b[39;49m\u001b[39m'\u001b[39;49m, \u001b[39m'\u001b[39;49m\u001b[39moutput_done_18.csv\u001b[39;49m\u001b[39m'\u001b[39;49m, \u001b[39m'\u001b[39;49m\u001b[39moutput_done_19.csv\u001b[39;49m\u001b[39m'\u001b[39;49m, \u001b[39m'\u001b[39;49m\u001b[39moutput_done_20.csv\u001b[39;49m\u001b[39m'\u001b[39;49m,\n\u001b[0;32m      <a href='vscode-notebook-cell:/c%3A/Users/bsroy/Documents/Coding/DSBA_5122/H1B_Analysis/graphs.ipynb#W1sZmlsZQ%3D%3D?line=7'>8</a>\u001b[0m                       \u001b[39m'\u001b[39;49m\u001b[39moutput_done_21.csv\u001b[39;49m\u001b[39m'\u001b[39;49m, \u001b[39m'\u001b[39;49m\u001b[39moutput_done_22.csv\u001b[39;49m\u001b[39m'\u001b[39;49m, \u001b[39m'\u001b[39;49m\u001b[39moutput_done_23.csv\u001b[39;49m\u001b[39m'\u001b[39;49m, \u001b[39m'\u001b[39;49m\u001b[39moutput_done_24.csv\u001b[39;49m\u001b[39m'\u001b[39;49m,\n\u001b[0;32m      <a href='vscode-notebook-cell:/c%3A/Users/bsroy/Documents/Coding/DSBA_5122/H1B_Analysis/graphs.ipynb#W1sZmlsZQ%3D%3D?line=8'>9</a>\u001b[0m                       \u001b[39m'\u001b[39;49m\u001b[39moutput_done_25.csv\u001b[39;49m\u001b[39m'\u001b[39;49m], encoding\u001b[39m=\u001b[39;49m\u001b[39m'\u001b[39;49m\u001b[39mISO-8859-1\u001b[39;49m\u001b[39m'\u001b[39;49m), ignore_index\u001b[39m=\u001b[39m\u001b[39mTrue\u001b[39;00m) \n",
      "\u001b[1;31mTypeError\u001b[0m: map() takes no keyword arguments"
     ]
    }
   ],
   "source": [
    "# merging csv files \n",
    "h1b = pd.concat( \n",
    "    map(pd.read_csv, ['output_done_1.csv', 'output_done_2.csv', 'output_done_3.csv', 'output_done_4.csv',\n",
    "                      'output_done_5.csv', 'output_done_6.csv', 'output_done_7.csv', 'output_done_8.csv',\n",
    "                      'output_done_9.csv', 'output_done_10.csv', 'output_done_11.csv', 'output_done_12.csv',\n",
    "                      'output_done_13.csv', 'output_done_14.csv', 'output_done_15.csv', 'output_done_16.csv',\n",
    "                      'output_done_17.csv', 'output_done_18.csv', 'output_done_19.csv', 'output_done_20.csv',\n",
    "                      'output_done_21.csv', 'output_done_22.csv', 'output_done_23.csv', 'output_done_24.csv',\n",
    "                      'output_done_25.csv']), ignore_index=True) "
   ]
  }
 ],
 "metadata": {
  "kernelspec": {
   "display_name": ".venv",
   "language": "python",
   "name": "python3"
  },
  "language_info": {
   "codemirror_mode": {
    "name": "ipython",
    "version": 3
   },
   "file_extension": ".py",
   "mimetype": "text/x-python",
   "name": "python",
   "nbconvert_exporter": "python",
   "pygments_lexer": "ipython3",
   "version": "3.10.11"
  }
 },
 "nbformat": 4,
 "nbformat_minor": 2
}
